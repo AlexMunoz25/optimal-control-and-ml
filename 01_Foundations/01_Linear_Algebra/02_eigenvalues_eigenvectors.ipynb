{
 "cells": [
  {
   "cell_type": "markdown",
   "metadata": {},
   "source": [
    "# Eigenvalues and Eigenvectors\n",
    "\n",
    "The eigenvalue problem is fundamental in linear algebra with applications across mathematics, physics, engineering, and computer science.\n",
    "\n",
    "They:\n",
    "- Reveal natural frequencies and modes of vibration in physical systems\n",
    "- Determine stability of dynamic systems and control algorithms\n",
    "- Enable efficient computation of matrix powers and exponentials\n",
    "- Simplify solutions to systems of differential equations\n",
    "- Form the basis for dimension reduction techniques like PCA\n",
    "- Characterize network structures and information flow in graph theory\n",
    "- Underpin many machine learning algorithms and data analysis methods\n",
    "- and more ...\n",
    "\n",
    "## Definition\n",
    "\n",
    "The eigenvalue problem for a matrix $[A]$ is given by the following equation (eigenvalue equation):\n",
    "\n",
    "$$[A][V] = \\lambda[V] \\iff ([A] - \\lambda[I])[V] = [0]$$\n",
    "\n",
    "where:\n",
    "- $\\lambda$ are the eigenvalues\n",
    "- $V$ are the eigenvectors\n",
    "- $I$ is the identity matrix\n",
    "\n",
    "The eigenvalue equation states that applying the matrix $[A]$ to an eigenvector $[V]$ results in the same vector scaled by a factor $\\lambda$.\n",
    "\n",
    "---\n",
    "\n",
    "The previous equation has a non-zero solution $[V]$ if and only if the determinant of the matrix $[A] - \\lambda[I]$ is equal to zero.\n",
    "\n",
    "Therefore, the eigenvalues of $[A]$ are values of $\\lambda$ that satisfy the below equation (characteristic polynomial):\n",
    "\n",
    "$$|[A] - \\lambda[I]| = 0$$\n",
    "\n",
    "Moreover, the eigenvector associated with the eigenvalue $\\lambda_i$ satisfies the eigenvalue equation when we substitute the specific eigenvalue.\n",
    "\n",
    "---\n",
    "\n",
    "To find eigenvectors and eigenvalues:\n",
    "1. Compute the characteristic polynomial $|[A] - \\lambda[I]| = 0$\n",
    "2. Solve for the eigenvalues $\\lambda$ by finding the roots of this polynomial\n",
    "3. For each eigenvalue $\\lambda_i$, solve $([A] - \\lambda_i[I])[V] = [0]$ to find the corresponding eigenvector $[V]$"
   ]
  }
 ],
 "metadata": {
  "language_info": {
   "name": "python"
  }
 },
 "nbformat": 4,
 "nbformat_minor": 2
}
