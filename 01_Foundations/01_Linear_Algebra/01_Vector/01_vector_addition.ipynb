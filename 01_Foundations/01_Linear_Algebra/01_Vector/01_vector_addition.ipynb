{
 "cells": [
  {
   "cell_type": "markdown",
   "id": "b466fc67",
   "metadata": {},
   "source": [
    "### 1.1.1.1. Vector Addition\n",
    "\n",
    "$$\n",
    "\\mathbf{u} + \\mathbf{v} =\n",
    "\\begin{bmatrix}\n",
    "u_1 \\\\\n",
    "u_2 \\\\\n",
    "\\vdots \\\\\n",
    "u_n\n",
    "\\end{bmatrix}\n",
    "+\n",
    "\\begin{bmatrix}\n",
    "v_1 \\\\\n",
    "v_2 \\\\\n",
    "\\vdots \\\\\n",
    "v_n\n",
    "\\end{bmatrix}\n",
    "=\n",
    "\\begin{bmatrix}\n",
    "u_1 + v_1 \\\\\n",
    "u_2 + v_2 \\\\\n",
    "\\vdots \\\\\n",
    "u_n + v_n\n",
    "\\end{bmatrix}\n",
    "$$\n",
    "\n",
    "**Explanation:**  \n",
    "\n",
    "Vector addition combines two vectors component-wise. It is commonly used in machine learning for gradient updates or geometric vector operations.\n",
    "\n",
    "**Example:**  \n",
    "\n",
    "If  \n",
    "\n",
    "$$\n",
    "\\mathbf{u} = \n",
    "\\begin{bmatrix}\n",
    "1 \\\\\n",
    "2\n",
    "\\end{bmatrix},\n",
    "\\quad\n",
    "\\mathbf{v} =\n",
    "\\begin{bmatrix}\n",
    "3 \\\\\n",
    "4\n",
    "\\end{bmatrix},\n",
    "$$  \n",
    "\n",
    "then  \n",
    "\n",
    "$$\n",
    "\\mathbf{u} + \\mathbf{v} =\n",
    "\\begin{bmatrix}\n",
    "4 \\\\\n",
    "6\n",
    "\\end{bmatrix}.\n",
    "$$\n"
   ]
  },
  {
   "cell_type": "code",
   "execution_count": 1,
   "id": "793bb6f6",
   "metadata": {},
   "outputs": [
    {
     "name": "stdout",
     "output_type": "stream",
     "text": [
      "u + v = [4 6]\n"
     ]
    }
   ],
   "source": [
    "import numpy as np\n",
    "\n",
    "# Define vectors\n",
    "u = np.array([1, 2])\n",
    "v = np.array([3, 4])\n",
    "\n",
    "# Perform vector addition\n",
    "result = u + v\n",
    "\n",
    "print(\"u + v =\", result)"
   ]
  },
  {
   "cell_type": "markdown",
   "id": "af528bdd",
   "metadata": {},
   "source": [
    "**References:**  \n",
    "[📘 Aazi 2024 - *Mathematics For Machine Learning*](https://www.scribd.com/document/812294393/Mathematics-for-Machine-Learning)\n",
    "\n",
    "---\n",
    "\n",
    "[⬅️ Back to Index](../../../../README.md) | [Next: Scalar Multiplication ➡️](./02_vector_scalar_multiplication.ipynb)\n"
   ]
  }
 ],
 "metadata": {
  "kernelspec": {
   "display_name": ".venv",
   "language": "python",
   "name": "python3"
  },
  "language_info": {
   "codemirror_mode": {
    "name": "ipython",
    "version": 3
   },
   "file_extension": ".py",
   "mimetype": "text/x-python",
   "name": "python",
   "nbconvert_exporter": "python",
   "pygments_lexer": "ipython3",
   "version": "3.11.0rc1"
  }
 },
 "nbformat": 4,
 "nbformat_minor": 5
}
