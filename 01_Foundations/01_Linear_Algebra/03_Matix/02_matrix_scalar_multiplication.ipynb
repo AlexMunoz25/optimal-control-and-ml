{
 "cells": [
  {
   "cell_type": "markdown",
   "id": "a65da25e",
   "metadata": {},
   "source": [
    "### 1.1.3.2. Matrix Scalar Multiplication\n",
    "\n",
    "  \n",
    "\n",
    "$$\n",
    "\\alpha \\mathbf{A} = \\alpha \n",
    "\\begin{bmatrix}\n",
    "a_{11} & a_{12} \\\\\n",
    "a_{21} & a_{22}\n",
    "\\end{bmatrix}\n",
    "=\n",
    "\\begin{bmatrix}\n",
    "\\alpha a_{11} & \\alpha a_{12} \\\\\n",
    "\\alpha a_{21} & \\alpha a_{22}\n",
    "\\end{bmatrix}\n",
    "$$\n",
    "\n",
    "  \n",
    "\n",
    "**Explanation:**\n",
    "\n",
    "  \n",
    "\n",
    "Scaling a matrix by a scalar is useful in ML for adjusting learning rates or normalization.\n",
    "\n",
    "  \n",
    "\n",
    "**Example:**\n",
    "\n",
    "  \n",
    "\n",
    "If $ \\alpha = 2 $ and  \n",
    "\n",
    "$$\n",
    "\\mathbf{A} =\n",
    "\\begin{bmatrix}\n",
    "1 & 2 \\\\\n",
    "3 & 4\n",
    "\\end{bmatrix},\n",
    "$$  \n",
    "\n",
    "then  \n",
    "\n",
    "$$\n",
    "\\alpha \\mathbf{A} =\n",
    "\\begin{bmatrix}\n",
    "2 & 4 \\\\\n",
    "6 & 8\n",
    "\\end{bmatrix}.\n",
    "$$"
   ]
  },
  {
   "cell_type": "code",
   "execution_count": 5,
   "id": "ea5314df",
   "metadata": {},
   "outputs": [
    {
     "name": "stdout",
     "output_type": "stream",
     "text": [
      "[[2 4]\n",
      " [6 8]]\n"
     ]
    }
   ],
   "source": [
    "import numpy as np\n",
    "\n",
    "alpha = 2\n",
    "A = np.array([[1, 2], [3, 4]])\n",
    "result = alpha * A\n",
    "print(result)"
   ]
  },
  {
   "cell_type": "markdown",
   "id": "198f231d",
   "metadata": {},
   "source": [
    "**References:**\n",
    "\n",
    "[📘 Aazi 2024 - *Mathematics For Machine Learning*](https://www.scribd.com/document/812294393/Mathematics-for-Machine-Learning)\n",
    "\n",
    "---\n",
    "\n",
    "[⬅️ Previous: Matrix Addition](./01_matrix_addition.ipynb) | [Next: Matrix Vector Multiplication ➡️](./03_matrix_vector_multiplication.ipynb)"
   ]
  }
 ],
 "metadata": {
  "kernelspec": {
   "display_name": ".venv",
   "language": "python",
   "name": "python3"
  },
  "language_info": {
   "codemirror_mode": {
    "name": "ipython",
    "version": 3
   },
   "file_extension": ".py",
   "mimetype": "text/x-python",
   "name": "python",
   "nbconvert_exporter": "python",
   "pygments_lexer": "ipython3",
   "version": "3.11.0"
  }
 },
 "nbformat": 4,
 "nbformat_minor": 5
}
