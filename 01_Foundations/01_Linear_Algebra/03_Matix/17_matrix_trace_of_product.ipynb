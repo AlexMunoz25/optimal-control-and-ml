{
 "cells": [
  {
   "cell_type": "markdown",
   "id": "3e982bd3",
   "metadata": {},
   "source": [
    "### 1.1.3.17. Trace of a Matrix Product\n",
    "\n",
    "\n",
    "The trace of a matrix product exhibits a cyclic property.\n",
    "For compatible matrices $\\mathbf{A}$ and $\\mathbf{B}$,\n",
    "\n",
    "$$\n",
    "\\text{tr}(\\mathbf{AB}) = \\text{tr}(\\mathbf{BA}).\n",
    "$$\n",
    "\n",
    "\n",
    "This property extends to more matrices:\n",
    "\n",
    "$$\n",
    "\\text{tr}(\\mathbf{ABC}) = \\text{tr}(\\mathbf{BCA}) = \\text{tr}(\\mathbf{CAB}).\n",
    "$$\n",
    "\n",
    "\n",
    "#### **Application**\n",
    "\n",
    "In optimization and control, the trace is useful for expressing scalar quantities\n",
    "involving matrices, such as $\\text{tr}(\\mathbf{A}^T\\mathbf{A}) = \\|\\mathbf{A}\\|_F^2$.\n",
    "\n",
    "\n",
    "#### **Example**\n",
    "\n",
    "Let\n",
    "\n",
    "$$\n",
    "\\mathbf{A} =\n",
    "\\begin{bmatrix}\n",
    "1 & 2 \\\\\n",
    "0 & 1\n",
    "\\end{bmatrix},\n",
    "\\quad\n",
    "\\mathbf{B} =\n",
    "\\begin{bmatrix}\n",
    "0 & 1 \\\\\n",
    "1 & 0\n",
    "\\end{bmatrix}.\n",
    "$$\n",
    "\n",
    "Then\n",
    "\n",
    "$$\n",
    "\\text{tr}(\\mathbf{AB}) = \\text{tr}(\\mathbf{BA}) = 2.\n",
    "$$"
   ]
  },
  {
   "cell_type": "code",
   "execution_count": 2,
   "id": "e263880e",
   "metadata": {},
   "outputs": [
    {
     "name": "stdout",
     "output_type": "stream",
     "text": [
      "Tr(AB) = 69\n",
      "Tr(BA) = 69\n",
      "Tr(AB) == Tr(BA)? True\n"
     ]
    }
   ],
   "source": [
    "import numpy as np\n",
    "A = np.array([[1, 2], [3, 4]])\n",
    "B = np.array([[5, 6], [7, 8]])\n",
    "trace1 = np.trace(np.dot(A, B))\n",
    "trace2 = np.trace(np.dot(B, A))\n",
    "equality_holds = trace1 == trace2\n",
    "print(\"Tr(AB) =\", trace1)\n",
    "print(\"Tr(BA) =\", trace2)\n",
    "print(\"Tr(AB) == Tr(BA)?\", equality_holds)"
   ]
  },
  {
   "cell_type": "markdown",
   "id": "583182fa",
   "metadata": {},
   "source": [
    "**References:**\n",
    "\n",
    "[📘 Aazi 2024 - *Mathematics For Machine Learning*](https://www.scribd.com/document/812294393/Mathematics-for-Machine-Learning)  \n",
    "\n",
    "---\n",
    "\n",
    "[⬅️ Previous: Matrix Trace](./16_matrix_trace.ipynb) | [Next: Block Matrix Multiplication ➡️](./18_matrix_block_multiplication.ipynb)\n"
   ]
  }
 ],
 "metadata": {
  "kernelspec": {
   "display_name": ".venv",
   "language": "python",
   "name": "python3"
  },
  "language_info": {
   "codemirror_mode": {
    "name": "ipython",
    "version": 3
   },
   "file_extension": ".py",
   "mimetype": "text/x-python",
   "name": "python",
   "nbconvert_exporter": "python",
   "pygments_lexer": "ipython3",
   "version": "3.11.0"
  }
 },
 "nbformat": 4,
 "nbformat_minor": 5
}
