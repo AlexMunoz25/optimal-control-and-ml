{
 "cells": [
  {
   "cell_type": "markdown",
   "id": "22319959",
   "metadata": {},
   "source": [
    "### 1.1.3.14. Matrix Frobenius Norm\n",
    "\n",
    "\n",
    "The Frobenius norm of a matrix $\\mathbf{A} \\in \\mathbb{R}^{m \\times n}$\n",
    "is defined as\n",
    "\n",
    "$$\n",
    "\\|\\mathbf{A}\\|_F =\n",
    "\\sqrt{\\sum_{i=1}^m \\sum_{j=1}^n |A_{ij}|^2}.\n",
    "$$\n",
    "\n",
    "\n",
    "#### **Properties**\n",
    "\n",
    "- Equivalent to the Euclidean norm of the vector formed by the entries of $\\mathbf{A}$.\n",
    "- Equal to the square root of the sum of squares of the singular values.\n",
    "- Invariant under unitary transformations:\n",
    "  $\\|\\mathbf{UAV}\\|_F = \\|\\mathbf{A}\\|_F$ for orthogonal $\\mathbf{U}$, $\\mathbf{V}$.\n",
    "\n",
    "\n",
    "#### **Example**\n",
    "\n",
    "Let\n",
    "\n",
    "$$\n",
    "\\mathbf{A} =\n",
    "\\begin{bmatrix}\n",
    "1 & 2 \\\\\n",
    "3 & 4\n",
    "\\end{bmatrix}.\n",
    "$$\n",
    "\n",
    "\n",
    "Then\n",
    "\n",
    "$$\n",
    "\\|\\mathbf{A}\\|_F =\n",
    "\\sqrt{1^2 + 2^2 + 3^2 + 4^2}\n",
    "=\n",
    "\\sqrt{30}.\n",
    "$$"
   ]
  },
  {
   "cell_type": "code",
   "execution_count": 3,
   "id": "efd33e41",
   "metadata": {},
   "outputs": [
    {
     "name": "stdout",
     "output_type": "stream",
     "text": [
      "5.477225575051661\n"
     ]
    }
   ],
   "source": [
    "import numpy as np\n",
    "A = np.array([[1, 2], [3, 4]])\n",
    "result = np.linalg.norm(A, 'fro')\n",
    "print(result)"
   ]
  },
  {
   "cell_type": "markdown",
   "id": "c55ff14d",
   "metadata": {},
   "source": [
    "**References:**\n",
    "\n",
    "[📘 Aazi 2024 - *Mathematics For Machine Learning*](https://www.scribd.com/document/812294393/Mathematics-for-Machine-Learning)  \n",
    "\n",
    "---\n",
    "\n",
    "[⬅️ Previous: Outer Product](./13_matrix_outer_product.ipynb) | [Next: Matrix Norm Inequality ➡️](./15_matrix_norm_inequality.ipynb)"
   ]
  }
 ],
 "metadata": {
  "kernelspec": {
   "display_name": ".venv",
   "language": "python",
   "name": "python3"
  },
  "language_info": {
   "codemirror_mode": {
    "name": "ipython",
    "version": 3
   },
   "file_extension": ".py",
   "mimetype": "text/x-python",
   "name": "python",
   "nbconvert_exporter": "python",
   "pygments_lexer": "ipython3",
   "version": "3.11.0rc1"
  }
 },
 "nbformat": 4,
 "nbformat_minor": 5
}
