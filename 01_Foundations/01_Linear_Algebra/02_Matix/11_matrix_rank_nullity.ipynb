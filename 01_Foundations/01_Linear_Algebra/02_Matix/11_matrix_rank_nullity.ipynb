{
 "cells": [
  {
   "cell_type": "markdown",
   "id": "6b919e1d",
   "metadata": {},
   "source": [
    "### 1.1.2.11. Rank–Nullity Theorem\n",
    "\n",
    "  \n",
    "\n",
    "$$\n",
    "\\text{rank}(\\mathbf{A}) + \\text{nullity}(\\mathbf{A}) = n\n",
    "$$\n",
    "\n",
    "  \n",
    "\n",
    "**Explanation:**\n",
    "\n",
    "  \n",
    "\n",
    "The Rank–Nullity Theorem states that the sum of the **rank** (dimension of the column space)  \n",
    "and the **nullity** (dimension of the null space) of a matrix equals the number of its columns.  \n",
    "\n",
    "It is fundamental in linear algebra for understanding the structure of linear transformations and  \n",
    "the solutions to systems of linear equations.\n",
    "\n",
    "  \n",
    "\n",
    "**Example:**\n",
    "\n",
    "  \n",
    "\n",
    "If $\\mathbf{A}$ has 3 columns and its rank is 2, then the nullity is 1 since $2 + 1 = 3$.\n"
   ]
  },
  {
   "cell_type": "code",
   "execution_count": 4,
   "id": "cb69d342",
   "metadata": {},
   "outputs": [
    {
     "name": "stdout",
     "output_type": "stream",
     "text": [
      "rank(A) = 2\n",
      "nullity(A) = 1\n"
     ]
    }
   ],
   "source": [
    "import numpy as np\n",
    "from numpy.linalg import matrix_rank\n",
    "\n",
    "A = np.array([\n",
    "    [1, 2, 3],\n",
    "    [4, 5, 6],\n",
    "    [7, 8, 9]\n",
    "])\n",
    "\n",
    "rank = matrix_rank(A)\n",
    "nullity = A.shape[1] - rank\n",
    "\n",
    "print(\"rank(A) =\", rank)\n",
    "print(\"nullity(A) =\", nullity)"
   ]
  },
  {
   "cell_type": "markdown",
   "id": "6b9dbfe7",
   "metadata": {},
   "source": [
    "**References:**\n",
    "\n",
    "[📘 Aazi 2024 - *Mathematics For Machine Learning*](https://www.scribd.com/document/812294393/Mathematics-for-Machine-Learning)  \n",
    "\n",
    "---\n",
    "\n",
    "[⬅️ Previous: Determinant of a Triangular Matrix](./10_matrix_determinant.ipynb) | [Next: Hadamard (Elementwise) Product ➡️](./12_matrix_elementwise_product.ipynb)\n"
   ]
  }
 ],
 "metadata": {
  "kernelspec": {
   "display_name": ".venv",
   "language": "python",
   "name": "python3"
  },
  "language_info": {
   "codemirror_mode": {
    "name": "ipython",
    "version": 3
   },
   "file_extension": ".py",
   "mimetype": "text/x-python",
   "name": "python",
   "nbconvert_exporter": "python",
   "pygments_lexer": "ipython3",
   "version": "3.11.0rc1"
  }
 },
 "nbformat": 4,
 "nbformat_minor": 5
}
