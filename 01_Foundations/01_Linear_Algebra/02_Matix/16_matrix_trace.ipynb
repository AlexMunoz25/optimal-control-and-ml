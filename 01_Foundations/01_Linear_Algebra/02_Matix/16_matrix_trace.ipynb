{
 "cells": [
  {
   "cell_type": "markdown",
   "id": "86754f97",
   "metadata": {},
   "source": [
    "### 1.1.2.16 Matrix Trace\n",
    "\n",
    "$$\n",
    "\\mathrm{Tr}(\\mathbf{A}) = \\sum_{i=1}^{n} a_{ii}\n",
    "$$\n",
    "\n",
    "**Explanation:**\n",
    "\n",
    "The trace of a matrix is the sum of its diagonal elements. It is used in ML for loss functions and characterizing matrix properties.\n",
    "\n",
    "**Example:**\n",
    "\n",
    "If\n",
    "\n",
    "$$\n",
    "\\mathbf{A} =\n",
    "\\begin{bmatrix}\n",
    "1 & 2 \\\\\n",
    "3 & 4\n",
    "\\end{bmatrix},\n",
    "$$\n",
    "\n",
    "then\n",
    "\n",
    "$$\n",
    "\\mathrm{Tr}(\\mathbf{A}) = 1 + 4 = 5.\n",
    "$$\n"
   ]
  },
  {
   "cell_type": "code",
   "execution_count": 1,
   "id": "272ba2f0",
   "metadata": {},
   "outputs": [
    {
     "name": "stdout",
     "output_type": "stream",
     "text": [
      "Tr(A) = 5\n"
     ]
    }
   ],
   "source": [
    "import numpy as np\n",
    "A = np.array([[1, 2], [3, 4]])\n",
    "result = np.trace(A)\n",
    "print(\"Tr(A) =\", result)"
   ]
  },
  {
   "cell_type": "markdown",
   "id": "b4eb1d7a",
   "metadata": {},
   "source": [
    "**References:**\n",
    "\n",
    "[📘 Aazi 2024 - *Mathematics For Machine Learning*](https://www.scribd.com/document/812294393/Mathematics-for-Machine-Learning)\n",
    "\n",
    "---\n",
    "\n",
    "[⬅️ Previous: Matrix Norm Inequality](./15_matrix_norm_inequality.ipynb) | [Next: (Coming Soon) ➡️]()\n"
   ]
  }
 ],
 "metadata": {
  "kernelspec": {
   "display_name": ".venv",
   "language": "python",
   "name": "python3"
  },
  "language_info": {
   "codemirror_mode": {
    "name": "ipython",
    "version": 3
   },
   "file_extension": ".py",
   "mimetype": "text/x-python",
   "name": "python",
   "nbconvert_exporter": "python",
   "pygments_lexer": "ipython3",
   "version": "3.11.0rc1"
  }
 },
 "nbformat": 4,
 "nbformat_minor": 5
}
