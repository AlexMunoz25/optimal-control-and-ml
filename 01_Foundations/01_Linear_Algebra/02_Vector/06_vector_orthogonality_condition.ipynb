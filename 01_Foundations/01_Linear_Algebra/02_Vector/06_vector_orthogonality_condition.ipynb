{
 "cells": [
  {
   "cell_type": "markdown",
   "id": "49102da6",
   "metadata": {},
   "source": [
    "### 1.1.2.6. Orthogonality Condition\n",
    "\n",
    "  \n",
    "\n",
    "$$\n",
    "\\mathbf{u} \\cdot \\mathbf{v} = 0\n",
    "$$\n",
    "\n",
    "  \n",
    "\n",
    "**Explanation:**\n",
    "\n",
    "  \n",
    "\n",
    "Two vectors are orthogonal if their dot product is zero.  \n",
    "\n",
    "This condition is critical in linear algebra and ML for understanding independence and basis construction.\n",
    "\n",
    "  \n",
    "\n",
    "**Example:**\n",
    "\n",
    "  \n",
    "\n",
    "If  \n",
    "\n",
    "$$\n",
    "\\mathbf{u} =\n",
    "\\begin{bmatrix}\n",
    "1 \\\\\n",
    "2\n",
    "\\end{bmatrix},\n",
    "\\quad\n",
    "\\mathbf{v} =\n",
    "\\begin{bmatrix}\n",
    "-2 \\\\\n",
    "1\n",
    "\\end{bmatrix},\n",
    "$$  \n",
    "\n",
    "then  \n",
    "\n",
    "$$\n",
    "\\mathbf{u} \\cdot \\mathbf{v} = 1 \\cdot (-2) + 2 \\cdot 1 = 0,\n",
    "$$  \n",
    "\n",
    "confirming orthogonality.\n"
   ]
  },
  {
   "cell_type": "code",
   "execution_count": null,
   "id": "664514ad",
   "metadata": {},
   "outputs": [
    {
     "name": "stdout",
     "output_type": "stream",
     "text": [
      "u · v = 0\n",
      "Orthogonal: True\n"
     ]
    }
   ],
   "source": [
    "import numpy as np\n",
    "\n",
    "# Define vectors\n",
    "u = np.array([1, 2])\n",
    "v = np.array([-2, 1])\n",
    "\n",
    "# Compute dot product\n",
    "result = np.dot(u, v)\n",
    "\n",
    "# Check orthogonality\n",
    "is_orthogonal = result == 0\n",
    "\n",
    "print(\"u · v =\", result)\n",
    "print(\"Orthogonal:\", is_orthogonal)"
   ]
  },
  {
   "cell_type": "markdown",
   "id": "f288a4ea",
   "metadata": {},
   "source": [
    "**References:**\n",
    "\n",
    "[📘 Aazi 2024 - *Mathematics For Machine Learning*](https://www.scribd.com/document/812294393/Mathematics-for-Machine-Learning)\n",
    "\n",
    "---\n",
    "\n",
    "[⬅️ Previous: Norm of a Vector](./05_vector_norm.ipynb) | [Next: Matrix Addition ➡️](../02_Matix/01_matrix_addition.ipynb)"
   ]
  }
 ],
 "metadata": {
  "kernelspec": {
   "display_name": ".venv",
   "language": "python",
   "name": "python3"
  },
  "language_info": {
   "codemirror_mode": {
    "name": "ipython",
    "version": 3
   },
   "file_extension": ".py",
   "mimetype": "text/x-python",
   "name": "python",
   "nbconvert_exporter": "python",
   "pygments_lexer": "ipython3",
   "version": "3.11.0"
  }
 },
 "nbformat": 4,
 "nbformat_minor": 5
}
