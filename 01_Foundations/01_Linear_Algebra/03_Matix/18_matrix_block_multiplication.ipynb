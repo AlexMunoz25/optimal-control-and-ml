{
 "cells": [
  {
   "cell_type": "markdown",
   "id": "8c04fbb0",
   "metadata": {},
   "source": [
    "### 1.1.3.18. Matrix Block Multiplication\n",
    "\n",
    "\n",
    "Block multiplication generalizes matrix multiplication by partitioning matrices into submatrices.\n",
    "Suppose\n",
    "\n",
    "$$\n",
    "\\mathbf{A} =\n",
    "\\begin{bmatrix}\n",
    "\\mathbf{A}_{11} & \\mathbf{A}_{12} \\\\\n",
    "\\mathbf{A}_{21} & \\mathbf{A}_{22}\n",
    "\\end{bmatrix},\n",
    "\\quad\n",
    "\\mathbf{B} =\n",
    "\\begin{bmatrix}\n",
    "\\mathbf{B}_{11} & \\mathbf{B}_{12} \\\\\n",
    "\\mathbf{B}_{21} & \\mathbf{B}_{22}\n",
    "\\end{bmatrix},\n",
    "$$\n",
    "\n",
    "where the block dimensions are compatible.\n",
    "Then\n",
    "\n",
    "$$\n",
    "\\mathbf{A}\\mathbf{B} =\n",
    "\\begin{bmatrix}\n",
    "\\mathbf{A}_{11}\\mathbf{B}_{11} + \\mathbf{A}_{12}\\mathbf{B}_{21} &\n",
    "\\mathbf{A}_{11}\\mathbf{B}_{12} + \\mathbf{A}_{12}\\mathbf{B}_{22} \\\\\n",
    "\\mathbf{A}_{21}\\mathbf{B}_{11} + \\mathbf{A}_{22}\\mathbf{B}_{21} &\n",
    "\\mathbf{A}_{21}\\mathbf{B}_{12} + \\mathbf{A}_{22}\\mathbf{B}_{22}\n",
    "\\end{bmatrix}.\n",
    "$$\n",
    "\n",
    "\n",
    "#### **Benefits**\n",
    "\n",
    "- Simplifies analysis of large matrices.\n",
    "- Enables parallel computation by working on blocks independently.\n",
    "- Useful in numerical linear algebra and control systems.\n",
    "\n",
    "\n",
    "#### **Example**\n",
    "\n",
    "Partition\n",
    "\n",
    "$$\n",
    "\\mathbf{A} =\n",
    "\\begin{bmatrix}\n",
    "1 & 2 & 3 \\\\\n",
    "4 & 5 & 6 \\\\\n",
    "7 & 8 & 9\n",
    "\\end{bmatrix},\n",
    "\\quad\n",
    "\\mathbf{B} =\n",
    "\\begin{bmatrix}\n",
    "9 & 8 & 7 \\\\\n",
    "6 & 5 & 4 \\\\\n",
    "3 & 2 & 1\n",
    "\\end{bmatrix}\n",
    "$$\n",
    "\n",
    "into $2 \\times 2$ block matrices by rows and columns.\n",
    "Multiplying the blocks yields the same result as standard multiplication."
   ]
  },
  {
   "cell_type": "code",
   "execution_count": 5,
   "id": "d03645bb",
   "metadata": {},
   "outputs": [
    {
     "name": "stdout",
     "output_type": "stream",
     "text": [
      "Block Matrix Result:\n",
      " [[ 342  356  398  412]\n",
      " [ 518  540  606  628]\n",
      " [1046 1092 1230 1276]\n",
      " [1222 1276 1438 1492]]\n"
     ]
    }
   ],
   "source": [
    "import numpy as np\n",
    "\n",
    "A = np.array([[1, 2], [3, 4]])\n",
    "B = np.array([[5, 6], [7, 8]])\n",
    "C = np.array([[9, 10], [11, 12]])\n",
    "D = np.array([[13, 14], [15, 16]])\n",
    "\n",
    "E = np.array([[17, 18], [19, 20]])\n",
    "F = np.array([[21, 22], [23, 24]])\n",
    "G = np.array([[25, 26], [27, 28]])\n",
    "H = np.array([[29, 30], [31, 32]])\n",
    "\n",
    "top_left = np.dot(A, E) + np.dot(B, G)\n",
    "top_right = np.dot(A, F) + np.dot(B, H)\n",
    "bottom_left = np.dot(C, E) + np.dot(D, G)\n",
    "bottom_right = np.dot(C, F) + np.dot(D, H)\n",
    "\n",
    "result = np.block([[top_left, top_right],\n",
    "                   [bottom_left, bottom_right]])\n",
    "\n",
    "print(\"Block Matrix Result:\\n\", result)\n"
   ]
  },
  {
   "cell_type": "markdown",
   "id": "c1693a98",
   "metadata": {},
   "source": [
    "**References:**\n",
    "\n",
    "[📘 Aazi 2024 - *Mathematics For Machine Learning*](https://www.scribd.com/document/812294393/Mathematics-for-Machine-Learning)  \n",
    "\n",
    "---\n",
    "\n",
    "[⬅️ Previous: Trace of a Product](./17_matrix_trace_of_product.ipynb) | [Next: Kronecker Product ➡️](./19_matrix_kronecker_product.ipynb)\n"
   ]
  }
 ],
 "metadata": {
  "kernelspec": {
   "display_name": ".venv",
   "language": "python",
   "name": "python3"
  },
  "language_info": {
   "codemirror_mode": {
    "name": "ipython",
    "version": 3
   },
   "file_extension": ".py",
   "mimetype": "text/x-python",
   "name": "python",
   "nbconvert_exporter": "python",
   "pygments_lexer": "ipython3",
   "version": "3.11.0"
  }
 },
 "nbformat": 4,
 "nbformat_minor": 5
}
