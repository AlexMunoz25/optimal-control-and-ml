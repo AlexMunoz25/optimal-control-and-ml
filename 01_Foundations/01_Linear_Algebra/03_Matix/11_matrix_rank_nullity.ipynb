{
 "cells": [
  {
   "cell_type": "markdown",
   "id": "6b919e1d",
   "metadata": {},
   "source": [
    "### 1.1.3.11. Rank-Nullity Theorem\n",
    "\n",
    "\n",
    "The rank-nullity theorem states that for any linear transformation\n",
    "represented by a matrix $\\mathbf{A}$ mapping from an $m$-dimensional\n",
    "domain to an $n$-dimensional codomain,\n",
    "\n",
    "$$\n",
    "\\text{rank}(\\mathbf{A}) + \\text{nullity}(\\mathbf{A}) = n\n",
    "$$\n",
    "\n",
    "where $n$ is the number of columns of $\\mathbf{A}$ (dimension of the domain).\n",
    "\n",
    "\n",
    "#### **Key Concepts**\n",
    "\n",
    "- **Rank**: Dimension of the column space (number of linearly **independent columns**).\n",
    "- **Nullity**: Dimension of the null space (number of free variables in solutions to $\\mathbf{A}\\mathbf{x} = \\mathbf{0}$).\n",
    "\n",
    "\n",
    "#### **Example**\n",
    "\n",
    "Consider a $4 \\times 3$ matrix, with rank 2.\n",
    "Then, by the theorem, the nullity must be 1 because\n",
    "\n",
    "$$\n",
    "2 + \\text{nullity}(\\mathbf{A}) = 3 \\Rightarrow \\text{nullity}(\\mathbf{A}) = 1.\n",
    "$$"
   ]
  },
  {
   "cell_type": "code",
   "execution_count": 4,
   "id": "cb69d342",
   "metadata": {},
   "outputs": [
    {
     "name": "stdout",
     "output_type": "stream",
     "text": [
      "rank(A) = 2\n",
      "nullity(A) = 1\n"
     ]
    }
   ],
   "source": [
    "import numpy as np\n",
    "from numpy.linalg import matrix_rank\n",
    "\n",
    "A = np.array([\n",
    "    [1, 2, 3],\n",
    "    [4, 5, 6],\n",
    "    [7, 8, 9]\n",
    "])\n",
    "\n",
    "rank = matrix_rank(A)\n",
    "nullity = A.shape[1] - rank\n",
    "\n",
    "print(\"rank(A) =\", rank)\n",
    "print(\"nullity(A) =\", nullity)"
   ]
  },
  {
   "cell_type": "markdown",
   "id": "6b9dbfe7",
   "metadata": {},
   "source": [
    "**References:**\n",
    "\n",
    "[📘 Aazi 2024 - *Mathematics For Machine Learning*](https://www.scribd.com/document/812294393/Mathematics-for-Machine-Learning)  \n",
    "\n",
    "---\n",
    "\n",
    "[⬅️ Previous: Determinant of a Triangular Matrix](./10_matrix_determinant.ipynb) | [Next: Hadamard (Elementwise) Product ➡️](./12_matrix_elementwise_product.ipynb)\n"
   ]
  }
 ],
 "metadata": {
  "kernelspec": {
   "display_name": ".venv",
   "language": "python",
   "name": "python3"
  },
  "language_info": {
   "codemirror_mode": {
    "name": "ipython",
    "version": 3
   },
   "file_extension": ".py",
   "mimetype": "text/x-python",
   "name": "python",
   "nbconvert_exporter": "python",
   "pygments_lexer": "ipython3",
   "version": "3.11.0"
  }
 },
 "nbformat": 4,
 "nbformat_minor": 5
}
