{
 "cells": [
  {
   "cell_type": "markdown",
   "id": "7a7471c5",
   "metadata": {},
   "source": [
    "### 1.1.1.3 Dot Product\n",
    "\n",
    "$$\n",
    "\\mathbf{u} \\cdot \\mathbf{v} = \\sum_{i=1}^{n} u_i v_i = u_1 v_1 + u_2 v_2 + \\cdots + u_n v_n\n",
    "$$\n",
    "\n",
    "**Explanation:**  \n",
    "\n",
    "The dot product calculates a scalar representing the magnitude of projection of one vector onto another.  \n",
    "It is widely used in machine learning for similarity measures or linear operations.\n",
    "\n",
    "**Example:**  \n",
    "\n",
    "If  \n",
    "\n",
    "$$\n",
    "\\mathbf{u} =\n",
    "\\begin{bmatrix}\n",
    "1 \\\\\n",
    "2\n",
    "\\end{bmatrix},\n",
    "\\quad\n",
    "\\mathbf{v} =\n",
    "\\begin{bmatrix}\n",
    "3 \\\\\n",
    "4\n",
    "\\end{bmatrix},\n",
    "$$  \n",
    "\n",
    "then  \n",
    "\n",
    "$$\n",
    "\\mathbf{u} \\cdot \\mathbf{v} = 1 \\cdot 3 + 2 \\cdot 4 = 11.\n",
    "$$"
   ]
  },
  {
   "cell_type": "code",
   "execution_count": 12,
   "id": "df53486f",
   "metadata": {},
   "outputs": [
    {
     "name": "stdout",
     "output_type": "stream",
     "text": [
      "u · v = 11\n"
     ]
    }
   ],
   "source": [
    "import numpy as np\n",
    "\n",
    "# Define vectors\n",
    "u = np.array([1, 2])\n",
    "v = np.array([3, 4])\n",
    "\n",
    "# Compute dot product\n",
    "result = np.dot(u, v)\n",
    "\n",
    "print(\"u · v =\", result)"
   ]
  },
  {
   "cell_type": "markdown",
   "id": "6f7dccbe",
   "metadata": {},
   "source": [
    "**References:**  \n",
    "[📘 Aazi 2024 - *Mathematics For Machine Learning*](https://www.scribd.com/document/812294393/Mathematics-for-Machine-Learning)\n",
    "\n",
    "---\n",
    "\n",
    "[⬅️ Previous: Scalar Multiplication](./02_vector_scalar_multiplication.ipynb) | [Next: Cross Product ➡️](./04_vector_cross_product_3d.ipynb)\n"
   ]
  }
 ],
 "metadata": {
  "kernelspec": {
   "display_name": ".venv",
   "language": "python",
   "name": "python3"
  },
  "language_info": {
   "codemirror_mode": {
    "name": "ipython",
    "version": 3
   },
   "file_extension": ".py",
   "mimetype": "text/x-python",
   "name": "python",
   "nbconvert_exporter": "python",
   "pygments_lexer": "ipython3",
   "version": "3.11.0rc1"
  }
 },
 "nbformat": 4,
 "nbformat_minor": 5
}
