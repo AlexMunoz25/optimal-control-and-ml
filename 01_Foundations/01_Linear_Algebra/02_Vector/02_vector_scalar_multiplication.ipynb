{
 "cells": [
  {
   "cell_type": "markdown",
   "id": "06739790",
   "metadata": {},
   "source": [
    "### 1.1.2.2. Scalar Multiplication of a Vector\n",
    "\n",
    "$$\n",
    "\\alpha \\mathbf{v} = \\alpha\n",
    "\\begin{bmatrix}\n",
    "v_1 \\\\\n",
    "v_2 \\\\\n",
    "\\vdots \\\\\n",
    "v_n\n",
    "\\end{bmatrix}\n",
    "=\n",
    "\\begin{bmatrix}\n",
    "\\alpha v_1 \\\\\n",
    "\\alpha v_2 \\\\\n",
    "\\vdots \\\\\n",
    "\\alpha v_n\n",
    "\\end{bmatrix}\n",
    "$$\n",
    "\n",
    "**Explanation:**  \n",
    "Scalar multiplication scales each component of a vector by the same scalar.  \n",
    "It is used in scaling gradients or controlling vector magnitudes.\n",
    "\n",
    "**Example:**  \n",
    "If  \n",
    "$$\n",
    "\\alpha = 3, \\quad\n",
    "\\mathbf{v} =\n",
    "\\begin{bmatrix}\n",
    "2 \\\\\n",
    "-1\n",
    "\\end{bmatrix},\n",
    "$$  \n",
    "then  \n",
    "$$\n",
    "\\alpha \\mathbf{v} =\n",
    "\\begin{bmatrix}\n",
    "6 \\\\\n",
    "-3\n",
    "\\end{bmatrix}.\n",
    "$$"
   ]
  },
  {
   "cell_type": "code",
   "execution_count": 1,
   "id": "0248ee99",
   "metadata": {},
   "outputs": [
    {
     "name": "stdout",
     "output_type": "stream",
     "text": [
      "alpha * v = [ 6 -3]\n"
     ]
    }
   ],
   "source": [
    "import numpy as np\n",
    "\n",
    "# Define scalar and vector\n",
    "alpha = 3\n",
    "v = np.array([2, -1])\n",
    "\n",
    "# Perform scalar multiplication\n",
    "result = alpha * v\n",
    "\n",
    "print(\"alpha * v =\", result)"
   ]
  },
  {
   "cell_type": "markdown",
   "id": "eb396b49",
   "metadata": {},
   "source": [
    "**References:**  \n",
    "[📘 Aazi 2024 - *Mathematics For Machine Learning*](https://www.scribd.com/document/812294393/Mathematics-for-Machine-Learning)\n",
    "\n",
    "---\n",
    "\n",
    "[⬅️ Previous: Vector Addition](./01_vector_addition.ipynb) | [Next: Dot Product ➡️](./03_vector_dot_product.ipynb)\n"
   ]
  }
 ],
 "metadata": {
  "kernelspec": {
   "display_name": ".venv",
   "language": "python",
   "name": "python3"
  },
  "language_info": {
   "codemirror_mode": {
    "name": "ipython",
    "version": 3
   },
   "file_extension": ".py",
   "mimetype": "text/x-python",
   "name": "python",
   "nbconvert_exporter": "python",
   "pygments_lexer": "ipython3",
   "version": "3.11.0"
  }
 },
 "nbformat": 4,
 "nbformat_minor": 5
}
