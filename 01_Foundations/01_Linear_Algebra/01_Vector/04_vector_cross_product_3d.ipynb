{
 "cells": [
  {
   "cell_type": "markdown",
   "id": "d89a291b",
   "metadata": {},
   "source": [
    "### 1.1.1.4 Cross Product (3D)\n",
    "\n",
    "$$\n",
    "\\mathbf{u} \\times \\mathbf{v} =\n",
    "\\begin{vmatrix}\n",
    "\\mathbf{i} & \\mathbf{j} & \\mathbf{k} \\\\\n",
    "u_1 & u_2 & u_3 \\\\\n",
    "v_1 & v_2 & v_3\n",
    "\\end{vmatrix}\n",
    "$$\n",
    "\n",
    "**Explanation:** \n",
    "\n",
    "The cross product generates a vector perpendicular to two input vectors in 3D space.  \n",
    "It is commonly used in physics and computer graphics.\n",
    "\n",
    "**Example:**  \n",
    "\n",
    "If  \n",
    "\n",
    "$$\n",
    "\\mathbf{u} =\n",
    "\\begin{bmatrix}\n",
    "1 \\\\\n",
    "0 \\\\\n",
    "0\n",
    "\\end{bmatrix},\n",
    "\\quad\n",
    "\\mathbf{v} =\n",
    "\\begin{bmatrix}\n",
    "0 \\\\\n",
    "1 \\\\\n",
    "0\n",
    "\\end{bmatrix},\n",
    "$$  \n",
    "\n",
    "then  \n",
    "\n",
    "$$\n",
    "\\mathbf{u} \\times \\mathbf{v} =\n",
    "\\begin{bmatrix}\n",
    "0 \\\\\n",
    "0 \\\\\n",
    "1\n",
    "\\end{bmatrix}.\n",
    "$$"
   ]
  },
  {
   "cell_type": "code",
   "execution_count": 3,
   "id": "25e20468",
   "metadata": {},
   "outputs": [
    {
     "name": "stdout",
     "output_type": "stream",
     "text": [
      "u × v = [0 0 1]\n"
     ]
    }
   ],
   "source": [
    "import numpy as np\n",
    "\n",
    "# Define vectors\n",
    "u = np.array([1, 0, 0])\n",
    "v = np.array([0, 1, 0])\n",
    "\n",
    "# Compute cross product\n",
    "result = np.cross(u, v)\n",
    "\n",
    "print(\"u × v =\", result)"
   ]
  },
  {
   "cell_type": "markdown",
   "id": "38df89b6",
   "metadata": {},
   "source": [
    "**References:**\n",
    "\n",
    "[📘 Aazi 2024 - *Mathematics For Machine Learning*](https://www.scribd.com/document/812294393/Mathematics-for-Machine-Learning)\n",
    "\n",
    "---\n",
    "\n",
    "[⬅️ Previous: Dot Product](./03_vector_dot_product.ipynb) | [Next: Norm of a Vector ➡️](./05_vector_norm.ipynb)\n"
   ]
  },
  {
   "cell_type": "code",
   "execution_count": null,
   "id": "74a59303",
   "metadata": {},
   "outputs": [],
   "source": []
  }
 ],
 "metadata": {
  "kernelspec": {
   "display_name": ".venv",
   "language": "python",
   "name": "python3"
  },
  "language_info": {
   "codemirror_mode": {
    "name": "ipython",
    "version": 3
   },
   "file_extension": ".py",
   "mimetype": "text/x-python",
   "name": "python",
   "nbconvert_exporter": "python",
   "pygments_lexer": "ipython3",
   "version": "3.11.0rc1"
  }
 },
 "nbformat": 4,
 "nbformat_minor": 5
}
