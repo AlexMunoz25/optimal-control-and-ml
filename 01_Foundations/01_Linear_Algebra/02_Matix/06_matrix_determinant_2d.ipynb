{
 "cells": [
  {
   "cell_type": "markdown",
   "id": "0ee21f32",
   "metadata": {},
   "source": [
    "### 1.1.2.6. Determinant of a 2×2 Matrix\n",
    "\n",
    "  \n",
    "\n",
    "$$\n",
    "\\det(\\mathbf{A}) =\n",
    "\\begin{vmatrix}\n",
    "a_{11} & a_{12} \\\\\n",
    "a_{21} & a_{22}\n",
    "\\end{vmatrix}\n",
    "= a_{11}a_{22} - a_{12}a_{21}\n",
    "$$\n",
    "\n",
    "  \n",
    "\n",
    "**Explanation:**\n",
    "\n",
    "  \n",
    "\n",
    "The determinant measures the scaling factor of the transformation represented by a matrix.  \n",
    "It is used to determine matrix invertibility.\n",
    "\n",
    "  \n",
    "\n",
    "**Example:**\n",
    "\n",
    "  \n",
    "\n",
    "If  \n",
    "\n",
    "$$\n",
    "\\mathbf{A} =\n",
    "\\begin{bmatrix}\n",
    "3 & 8 \\\\\n",
    "4 & 6\n",
    "\\end{bmatrix},\n",
    "$$  \n",
    "\n",
    "then  \n",
    "\n",
    "$$\n",
    "\\det(\\mathbf{A}) = 3 \\cdot 6 - 8 \\cdot 4 = -14.\n",
    "$$\n"
   ]
  },
  {
   "cell_type": "code",
   "execution_count": 2,
   "id": "9779a2cc",
   "metadata": {},
   "outputs": [
    {
     "name": "stdout",
     "output_type": "stream",
     "text": [
      "-14.000000000000004\n"
     ]
    }
   ],
   "source": [
    "import numpy as np\n",
    "\n",
    "A = np.array([[3, 8], [4, 6]])\n",
    "result = np.linalg.det(A)\n",
    "print(result)"
   ]
  },
  {
   "cell_type": "markdown",
   "id": "be05bc9e",
   "metadata": {},
   "source": [
    "**References:**\n",
    "\n",
    "[📘 Aazi 2024 - *Mathematics For Machine Learning*](https://www.scribd.com/document/812294393/Mathematics-for-Machine-Learning)\n",
    "\n",
    "---\n",
    "\n",
    "[⬅️ Previous: Transpose of a Matrix](./05_matrix_transpose.ipynb) | [Next: Inverse of a 2×2 Matrix ➡️](./07_matrix_inverse_2d.ipynb)\n"
   ]
  }
 ],
 "metadata": {
  "kernelspec": {
   "display_name": ".venv",
   "language": "python",
   "name": "python3"
  },
  "language_info": {
   "codemirror_mode": {
    "name": "ipython",
    "version": 3
   },
   "file_extension": ".py",
   "mimetype": "text/x-python",
   "name": "python",
   "nbconvert_exporter": "python",
   "pygments_lexer": "ipython3",
   "version": "3.11.0rc1"
  }
 },
 "nbformat": 4,
 "nbformat_minor": 5
}
