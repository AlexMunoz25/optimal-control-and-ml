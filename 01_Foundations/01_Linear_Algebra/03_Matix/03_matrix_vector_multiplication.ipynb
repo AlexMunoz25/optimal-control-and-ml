{
 "cells": [
  {
   "cell_type": "markdown",
   "id": "2b057948",
   "metadata": {},
   "source": [
    "### 1.1.3.3. Matrix-Vector Multiplication\n",
    "\n",
    "  \n",
    "\n",
    "$$\n",
    "\\mathbf{A}\\mathbf{x} =\n",
    "\\begin{bmatrix}\n",
    "a_{11} & a_{12} \\\\\n",
    "a_{21} & a_{22}\n",
    "\\end{bmatrix}\n",
    "\\begin{bmatrix}\n",
    "x_1 \\\\\n",
    "x_2\n",
    "\\end{bmatrix}\n",
    "=\n",
    "\\begin{bmatrix}\n",
    "a_{11}x_1 + a_{12}x_2 \\\\\n",
    "a_{21}x_1 + a_{22}x_2\n",
    "\\end{bmatrix}\n",
    "$$\n",
    "\n",
    "  \n",
    "\n",
    "**Explanation:**\n",
    "\n",
    "  \n",
    "\n",
    "Matrix-vector multiplication transforms a vector using a linear transformation defined by the matrix.  \n",
    "It is fundamental in ML for applying weights to inputs.\n",
    "\n",
    "  \n",
    "\n",
    "**Example:**\n",
    "\n",
    "  \n",
    "\n",
    "If  \n",
    "\n",
    "$$\n",
    "\\mathbf{A} =\n",
    "\\begin{bmatrix}\n",
    "1 & 2 \\\\\n",
    "3 & 4\n",
    "\\end{bmatrix},\n",
    "\\quad\n",
    "\\mathbf{x} =\n",
    "\\begin{bmatrix}\n",
    "5 \\\\\n",
    "6\n",
    "\\end{bmatrix},\n",
    "$$  \n",
    "\n",
    "then  \n",
    "\n",
    "$$\n",
    "\\mathbf{A}\\mathbf{x} =\n",
    "\\begin{bmatrix}\n",
    "17 \\\\\n",
    "39\n",
    "\\end{bmatrix}.\n",
    "$$"
   ]
  },
  {
   "cell_type": "code",
   "execution_count": 5,
   "id": "4a4aecac",
   "metadata": {},
   "outputs": [
    {
     "name": "stdout",
     "output_type": "stream",
     "text": [
      "[17 39]\n"
     ]
    }
   ],
   "source": [
    "import numpy as np\n",
    "\n",
    "A = np.array([[1, 2], [3, 4]])\n",
    "x = np.array([5, 6])\n",
    "result = np.dot(A, x)\n",
    "print(result)"
   ]
  },
  {
   "cell_type": "markdown",
   "id": "630abead",
   "metadata": {},
   "source": [
    "**References:**\n",
    "\n",
    "[📘 Aazi 2024 - *Mathematics For Machine Learning*](https://www.scribd.com/document/812294393/Mathematics-for-Machine-Learning)\n",
    "\n",
    "---\n",
    "\n",
    "[⬅️ Previous: Matrix Scalar Multiplication](./02_matrix_scalar_multiplication.ipynb) | [Next: Matrix Multiplication ➡️](./04_matrix_multiplication.ipynb)\n"
   ]
  }
 ],
 "metadata": {
  "kernelspec": {
   "display_name": ".venv",
   "language": "python",
   "name": "python3"
  },
  "language_info": {
   "codemirror_mode": {
    "name": "ipython",
    "version": 3
   },
   "file_extension": ".py",
   "mimetype": "text/x-python",
   "name": "python",
   "nbconvert_exporter": "python",
   "pygments_lexer": "ipython3",
   "version": "3.11.0"
  }
 },
 "nbformat": 4,
 "nbformat_minor": 5
}
