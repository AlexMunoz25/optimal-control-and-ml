{
 "cells": [
  {
   "cell_type": "markdown",
   "id": "f296c0b0",
   "metadata": {},
   "source": [
    "### 1.1.2.9. Determinant of a Triangular Matrix\n",
    "\n",
    "  \n",
    "\n",
    "$$\n",
    "\\det(\\mathbf{A}) = \\prod_{i=1}^{n} a_{ii}\n",
    "$$\n",
    "\n",
    "  \n",
    "\n",
    "**Explanation:**\n",
    "\n",
    "  \n",
    "\n",
    "The determinant of a triangular matrix (upper or lower) is the product of its diagonal elements.  \n",
    "This simplifies determinant calculations and is useful in decompositions.\n",
    "\n",
    "\n",
    "\n",
    "##### Rule of Sarrus (3×3)\n",
    "\n",
    "  \n",
    "\n",
    "Let  \n",
    "\n",
    "$$\n",
    "\\mathbf{A} =\n",
    "\\begin{bmatrix}\n",
    "a & b & c \\\\\n",
    "d & e & f \\\\\n",
    "g & h & i\n",
    "\\end{bmatrix}.\n",
    "$$\n",
    "\n",
    "Then  \n",
    "\n",
    "$$\n",
    "\\det(\\mathbf{A}) =\n",
    "\\color{orange}{aei} + \\color{orange}{bfg} + \\color{orange}{cdh}\n",
    "- \\color{green}{gec} - \\color{green}{hfa} - \\color{green}{idb}.\n",
    "$$\n",
    "\n",
    "**Mnemonic**\n",
    "\n",
    "<p align=\"center\">\n",
    "  <img src=\"../../../figures/01010209_matrix_determinant.png\"\n",
    "       alt=\"Sarrus mnemonic with colored diagonal arrows\"\n",
    "       width=\"310\">\n",
    "</p>\n",
    "\n",
    "\n",
    "\n",
    " \n",
    "\n",
    "**Example:**\n",
    "\n",
    "  \n",
    "\n",
    "If  \n",
    "\n",
    "$$\n",
    "\\mathbf{A} =\n",
    "\\begin{bmatrix}\n",
    "2 & 1 & 0 \\\\\n",
    "0 & 3 & 4 \\\\\n",
    "0 & 0 & 5\n",
    "\\end{bmatrix},\n",
    "$$\n",
    "\n",
    "then  \n",
    "\n",
    "$$\n",
    "\\det(\\mathbf{A}) = 2 \\cdot 3 \\cdot 5 = 30.\n",
    "$$\n",
    "\n"
   ]
  },
  {
   "cell_type": "code",
   "execution_count": 3,
   "id": "7dbb93a1",
   "metadata": {},
   "outputs": [
    {
     "name": "stdout",
     "output_type": "stream",
     "text": [
      "det(A) = 30\n"
     ]
    }
   ],
   "source": [
    "import numpy as np\n",
    "A = np.array([[2, 1, 0], [0, 3, 4], [0, 0, 5]])\n",
    "result = np.prod(np.diag(A))\n",
    "print(\"det(A) =\", result)"
   ]
  },
  {
   "cell_type": "markdown",
   "id": "0423f6ce",
   "metadata": {},
   "source": [
    "**References:**\n",
    "\n",
    "[📘 Aazi 2024 - *Mathematics For Machine Learning*](https://www.scribd.com/document/812294393/Mathematics-for-Machine-Learning)  \n",
    "[📗 P. Rozycki - *Notes from Computational Mechanics Program, École Centrale de Nantes*](https://www.ec-nantes.fr/study/masters/computational-mechanics)\n",
    "\n",
    "---\n",
    "\n",
    "[⬅️ Previous: Cramer’s Rule](./08_matrix_cramers_rule.ipynb) | [Next: Inverse of a Square Matrix](./10_matrix_inverse.ipynb) ➡️"
   ]
  }
 ],
 "metadata": {
  "kernelspec": {
   "display_name": ".venv",
   "language": "python",
   "name": "python3"
  },
  "language_info": {
   "codemirror_mode": {
    "name": "ipython",
    "version": 3
   },
   "file_extension": ".py",
   "mimetype": "text/x-python",
   "name": "python",
   "nbconvert_exporter": "python",
   "pygments_lexer": "ipython3",
   "version": "3.11.0"
  }
 },
 "nbformat": 4,
 "nbformat_minor": 5
}
