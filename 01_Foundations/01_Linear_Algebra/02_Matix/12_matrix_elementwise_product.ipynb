{
 "cells": [
  {
   "cell_type": "markdown",
   "id": "57e1a41b",
   "metadata": {},
   "source": [
    "### 1.1.2.12. Hadamard (Elementwise) Product\n",
    "\n",
    "  \n",
    "\n",
    "$$\n",
    "\\mathbf{C} = \\mathbf{A} \\circ \\mathbf{B} =\n",
    "\\begin{bmatrix}\n",
    "a_{11}b_{11} & a_{12}b_{12} \\\\\n",
    "a_{21}b_{21} & a_{22}b_{22}\n",
    "\\end{bmatrix}\n",
    "$$\n",
    "\n",
    "  \n",
    "\n",
    "**Explanation:**\n",
    "\n",
    "  \n",
    "\n",
    "The Hadamard product performs **elementwise multiplication** between two matrices.  \n",
    "It is used in **machine learning** for feature-wise scaling, attention mechanisms, or gating operations.\n",
    "\n",
    "  \n",
    "\n",
    "**Example:**\n",
    "\n",
    "  \n",
    "\n",
    "If  \n",
    "\n",
    "$$\n",
    "\\mathbf{A} =\n",
    "\\begin{bmatrix}\n",
    "1 & 2 \\\\\n",
    "3 & 4\n",
    "\\end{bmatrix},\n",
    "\\quad\n",
    "\\mathbf{B} =\n",
    "\\begin{bmatrix}\n",
    "5 & 6 \\\\\n",
    "7 & 8\n",
    "\\end{bmatrix},\n",
    "$$\n",
    "\n",
    "then  \n",
    "\n",
    "$$\n",
    "\\mathbf{C} =\n",
    "\\mathbf{A} \\circ \\mathbf{B} =\n",
    "\\begin{bmatrix}\n",
    "1 \\cdot 5 & 2 \\cdot 6 \\\\\n",
    "3 \\cdot 7 & 4 \\cdot 8\n",
    "\\end{bmatrix}\n",
    "=\n",
    "\\begin{bmatrix}\n",
    "5 & 12 \\\\\n",
    "21 & 32\n",
    "\\end{bmatrix}.\n",
    "$$\n"
   ]
  },
  {
   "cell_type": "code",
   "execution_count": 1,
   "id": "401e7c9d",
   "metadata": {},
   "outputs": [
    {
     "name": "stdout",
     "output_type": "stream",
     "text": [
      "[[ 5 12]\n",
      " [21 32]]\n"
     ]
    }
   ],
   "source": [
    "import numpy as np\n",
    "A = np.array([[1, 2], [3, 4]])\n",
    "B = np.array([[5, 6], [7, 8]])\n",
    "result = np.multiply(A, B)\n",
    "print(result)"
   ]
  },
  {
   "cell_type": "markdown",
   "id": "f0009ccf",
   "metadata": {},
   "source": [
    "**References:**\n",
    "\n",
    "[📘 Aazi 2024 - *Mathematics For Machine Learning*](https://www.scribd.com/document/812294393/Mathematics-for-Machine-Learning)  \n",
    "\n",
    "---\n",
    "\n",
    "[⬅️ Previous: Rank–Nullity Theorem](./11_matrix_rank_nullity.ipynb) | [Next: Outer Product ➡️](./13_matrix_outer_product.ipynb)\n"
   ]
  }
 ],
 "metadata": {
  "kernelspec": {
   "display_name": ".venv",
   "language": "python",
   "name": "python3"
  },
  "language_info": {
   "codemirror_mode": {
    "name": "ipython",
    "version": 3
   },
   "file_extension": ".py",
   "mimetype": "text/x-python",
   "name": "python",
   "nbconvert_exporter": "python",
   "pygments_lexer": "ipython3",
   "version": "3.11.0rc1"
  }
 },
 "nbformat": 4,
 "nbformat_minor": 5
}
