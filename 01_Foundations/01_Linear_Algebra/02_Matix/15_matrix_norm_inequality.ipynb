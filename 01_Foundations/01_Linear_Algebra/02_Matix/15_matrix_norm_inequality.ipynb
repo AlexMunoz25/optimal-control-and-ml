{
 "cells": [
  {
   "cell_type": "markdown",
   "id": "c6addb32",
   "metadata": {},
   "source": [
    "### 1.1.2.15. Matrix Norm Inequality\n",
    "\n",
    "  \n",
    "\n",
    "$$\n",
    "\\|\\mathbf{A}\\mathbf{x}\\| \\leq \\|\\mathbf{A}\\| \\, \\|\\mathbf{x}\\|\n",
    "$$\n",
    "\n",
    "  \n",
    "\n",
    "**Explanation:**\n",
    "\n",
    "The matrix norm inequality states that the norm of a matrix–vector product is **bounded** by the product of the matrix norm and the vector norm.  \n",
    "This is a key property in **numerical linear algebra** and **machine learning**, particularly for **error estimation** and **stability analysis**.\n",
    "\n",
    "  \n",
    "\n",
    "**Example:**\n",
    "\n",
    "For  \n",
    "\n",
    "$$\n",
    "\\mathbf{A} =\n",
    "\\begin{bmatrix}\n",
    "1 & 2 \\\\\n",
    "3 & 4\n",
    "\\end{bmatrix},\n",
    "\\quad\n",
    "\\mathbf{x} =\n",
    "\\begin{bmatrix}\n",
    "1 \\\\\n",
    "1\n",
    "\\end{bmatrix},\n",
    "$$\n",
    "\n",
    "compute whether  \n",
    "\n",
    "$$\n",
    "\\|\\mathbf{A}\\mathbf{x}\\| \\leq \\|\\mathbf{A}\\| \\, \\|\\mathbf{x}\\|.\n",
    "$$\n"
   ]
  },
  {
   "cell_type": "code",
   "execution_count": 3,
   "id": "3686921f",
   "metadata": {},
   "outputs": [
    {
     "name": "stdout",
     "output_type": "stream",
     "text": [
      "‖Ax‖ = 7.6158\n",
      "‖A‖‖x‖ = 7.746\n",
      "Inequality holds? True\n"
     ]
    }
   ],
   "source": [
    "import numpy as np\n",
    "\n",
    "A = np.array([[1, 2], [3, 4]])\n",
    "x = np.array([1, 1])\n",
    "\n",
    "left = np.linalg.norm(np.dot(A, x))\n",
    "right = np.linalg.norm(A) * np.linalg.norm(x)\n",
    "inequality_holds = left <= right\n",
    "\n",
    "print(\"‖Ax‖ =\", round(left, 4))\n",
    "print(\"‖A‖‖x‖ =\", round(right, 4))\n",
    "print(\"Inequality holds?\", inequality_holds)"
   ]
  },
  {
   "cell_type": "markdown",
   "id": "6c33952d",
   "metadata": {},
   "source": [
    "**References:**\n",
    "\n",
    "[📘 Aazi 2024 - *Mathematics For Machine Learning*](https://www.scribd.com/document/812294393/Mathematics-for-Machine-Learning)  \n",
    "\n",
    "---\n",
    "\n",
    "[⬅️ Previous: Frobenius Norm](./14_matrix_frobenius_norm.ipynb) | [Next: Matrix Trace ➡️](./16_matrix_trace.ipynb)\n"
   ]
  }
 ],
 "metadata": {
  "kernelspec": {
   "display_name": ".venv",
   "language": "python",
   "name": "python3"
  },
  "language_info": {
   "codemirror_mode": {
    "name": "ipython",
    "version": 3
   },
   "file_extension": ".py",
   "mimetype": "text/x-python",
   "name": "python",
   "nbconvert_exporter": "python",
   "pygments_lexer": "ipython3",
   "version": "3.11.0rc1"
  }
 },
 "nbformat": 4,
 "nbformat_minor": 5
}
