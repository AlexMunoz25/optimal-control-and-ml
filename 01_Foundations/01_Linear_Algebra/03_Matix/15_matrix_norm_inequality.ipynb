{
 "cells": [
  {
   "cell_type": "markdown",
   "id": "c6addb32",
   "metadata": {},
   "source": [
    "### 1.1.3.15. Matrix Norm Inequality\n",
    "\n",
    "\n",
    "Matrix norms satisfy inequalities analogous to vector norms.\n",
    "One common inequality is the **submultiplicative property**:\n",
    "\n",
    "$$\n",
    "\\|\\mathbf{AB}\\| \\leq \\|\\mathbf{A}\\| \\cdot \\|\\mathbf{B}\\|.\n",
    "$$\n",
    "\n",
    "\n",
    "#### **Operator Norm and Vector Norm**\n",
    "\n",
    "Let $\\|\\cdot\\|$ denote a vector norm.\n",
    "Then the induced operator norm of a matrix $\\mathbf{A}$ is\n",
    "\n",
    "$$\n",
    "\\|\\mathbf{A}\\| =\n",
    "\\max_{\\mathbf{x} \\neq 0}\n",
    "\\frac{\\|\\mathbf{A}\\mathbf{x}\\|}{\\|\\mathbf{x}\\|}.\n",
    "$$\n",
    "\n",
    "This norm satisfies the submultiplicative inequality for any\n",
    "compatible matrices $\\mathbf{A}$ and $\\mathbf{B}$.\n",
    "\n",
    "\n",
    "#### **Example**\n",
    "\n",
    "For the spectral norm $\\|\\cdot\\|_2$, derived from the Euclidean vector norm,\n",
    "the inequality becomes\n",
    "\n",
    "$$\n",
    "\\|\\mathbf{AB}\\|_2 \\leq \\|\\mathbf{A}\\|_2 \\|\\mathbf{B}\\|_2,\n",
    "$$\n",
    "\n",
    "which follows from the singular value decomposition of matrices."
   ]
  },
  {
   "cell_type": "code",
   "execution_count": 3,
   "id": "3686921f",
   "metadata": {},
   "outputs": [
    {
     "name": "stdout",
     "output_type": "stream",
     "text": [
      "‖Ax‖ = 7.6158\n",
      "‖A‖‖x‖ = 7.746\n",
      "Inequality holds? True\n"
     ]
    }
   ],
   "source": [
    "import numpy as np\n",
    "\n",
    "A = np.array([[1, 2], [3, 4]])\n",
    "x = np.array([1, 1])\n",
    "\n",
    "left = np.linalg.norm(np.dot(A, x))\n",
    "right = np.linalg.norm(A) * np.linalg.norm(x)\n",
    "inequality_holds = left <= right\n",
    "\n",
    "print(\"‖Ax‖ =\", round(left, 4))\n",
    "print(\"‖A‖‖x‖ =\", round(right, 4))\n",
    "print(\"Inequality holds?\", inequality_holds)"
   ]
  },
  {
   "cell_type": "markdown",
   "id": "6c33952d",
   "metadata": {},
   "source": [
    "**References:**\n",
    "\n",
    "[📘 Aazi 2024 - *Mathematics For Machine Learning*](https://www.scribd.com/document/812294393/Mathematics-for-Machine-Learning)  \n",
    "\n",
    "---\n",
    "\n",
    "[⬅️ Previous: Frobenius Norm](./14_matrix_frobenius_norm.ipynb) | [Next: Matrix Trace ➡️](./16_matrix_trace.ipynb)\n"
   ]
  }
 ],
 "metadata": {
  "kernelspec": {
   "display_name": ".venv",
   "language": "python",
   "name": "python3"
  },
  "language_info": {
   "codemirror_mode": {
    "name": "ipython",
    "version": 3
   },
   "file_extension": ".py",
   "mimetype": "text/x-python",
   "name": "python",
   "nbconvert_exporter": "python",
   "pygments_lexer": "ipython3",
   "version": "3.11.0rc1"
  }
 },
 "nbformat": 4,
 "nbformat_minor": 5
}
