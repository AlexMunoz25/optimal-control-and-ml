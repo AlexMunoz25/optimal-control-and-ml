{
 "cells": [
  {
   "cell_type": "markdown",
   "id": "86754f97",
   "metadata": {},
   "source": [
    "### 1.1.3.16. Trace of a Matrix\n",
    "\n",
    "\n",
    "The **trace** of a square matrix $\\mathbf{A} \\in \\mathbb{R}^{n \\times n}$ is the sum of its diagonal entries:\n",
    "\n",
    "$$\n",
    "\\text{tr}(\\mathbf{A}) = \\sum_{i=1}^n A_{ii}.\n",
    "$$\n",
    "\n",
    "\n",
    "#### **Properties**\n",
    "\n",
    "- Linear: $\\text{tr}(\\mathbf{A} + \\mathbf{B}) = \\text{tr}(\\mathbf{A}) + \\text{tr}(\\mathbf{B})$.\n",
    "- Invariant under cyclic permutations: $\\text{tr}(\\mathbf{AB}) = \\text{tr}(\\mathbf{BA})$.\n",
    "- Equal to the sum of eigenvalues (counted with algebraic multiplicity).\n",
    "\n",
    "\n",
    "#### **Example**\n",
    "\n",
    "For\n",
    "\n",
    "$$\n",
    "\\mathbf{A} =\n",
    "\\begin{bmatrix}\n",
    "2 & 1 & 0 \\\\\n",
    "0 & 3 & 4 \\\\\n",
    "0 & 0 & 5\n",
    "\\end{bmatrix},\n",
    "$$\n",
    "\n",
    "\n",
    "the trace is\n",
    "\n",
    "$$\n",
    "\\text{tr}(\\mathbf{A}) = 2 + 3 + 5 = 10.\n",
    "$$"
   ]
  },
  {
   "cell_type": "code",
   "execution_count": 2,
   "id": "272ba2f0",
   "metadata": {},
   "outputs": [
    {
     "name": "stdout",
     "output_type": "stream",
     "text": [
      "Tr(A) = 5\n"
     ]
    }
   ],
   "source": [
    "import numpy as np\n",
    "A = np.array([[1, 2], [3, 4]])\n",
    "result = np.trace(A)\n",
    "print(\"Tr(A) =\", result)"
   ]
  },
  {
   "cell_type": "markdown",
   "id": "b4eb1d7a",
   "metadata": {},
   "source": [
    "**References:**\n",
    "\n",
    "[📘 Aazi 2024 - *Mathematics For Machine Learning*](https://www.scribd.com/document/812294393/Mathematics-for-Machine-Learning)  \n",
    "\n",
    "---\n",
    "\n",
    "[⬅️ Previous: Matrix Norm Inequality](./15_matrix_norm_inequality.ipynb) | [Next: Trace of a Product ➡️](./17_matrix_trace_of_product.ipynb)\n"
   ]
  }
 ],
 "metadata": {
  "kernelspec": {
   "display_name": ".venv",
   "language": "python",
   "name": "python3"
  },
  "language_info": {
   "codemirror_mode": {
    "name": "ipython",
    "version": 3
   },
   "file_extension": ".py",
   "mimetype": "text/x-python",
   "name": "python",
   "nbconvert_exporter": "python",
   "pygments_lexer": "ipython3",
   "version": "3.11.0"
  }
 },
 "nbformat": 4,
 "nbformat_minor": 5
}
