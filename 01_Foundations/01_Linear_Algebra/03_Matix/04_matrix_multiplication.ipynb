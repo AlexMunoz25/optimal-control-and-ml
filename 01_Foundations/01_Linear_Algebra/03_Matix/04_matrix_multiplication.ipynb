{
 "cells": [
  {
   "cell_type": "markdown",
   "id": "ddb2f400",
   "metadata": {},
   "source": [
    "### 1.1.3.4. Matrix Multiplication\n",
    "\n",
    "  \n",
    "\n",
    "$$\n",
    "\\mathbf{C} = \\mathbf{A}\\mathbf{B}, \n",
    "\\quad\n",
    "c_{ij} = \\sum_{k=1}^{n} a_{ik} b_{kj}\n",
    "$$\n",
    "\n",
    "  \n",
    "\n",
    "**Explanation:**\n",
    "\n",
    "  \n",
    "\n",
    "Matrix multiplication combines two matrices, producing a matrix that represents the composition of linear transformations.  \n",
    "It is used in ML for layer operations in neural networks.\n",
    "\n",
    "  \n",
    "\n",
    "**Example:**\n",
    "\n",
    "  \n",
    "\n",
    "If  \n",
    "\n",
    "$$\n",
    "\\mathbf{A} =\n",
    "\\begin{bmatrix}\n",
    "1 & 2 \\\\\n",
    "3 & 4\n",
    "\\end{bmatrix},\n",
    "\\quad\n",
    "\\mathbf{B} =\n",
    "\\begin{bmatrix}\n",
    "5 & 6 \\\\\n",
    "7 & 8\n",
    "\\end{bmatrix},\n",
    "$$  \n",
    "\n",
    "then  \n",
    "\n",
    "$$\n",
    "\\mathbf{A}\\mathbf{B} =\n",
    "\\begin{bmatrix}\n",
    "19 & 22 \\\\\n",
    "43 & 50\n",
    "\\end{bmatrix}.\n",
    "$$"
   ]
  },
  {
   "cell_type": "code",
   "execution_count": 3,
   "id": "04c8627f",
   "metadata": {},
   "outputs": [
    {
     "name": "stdout",
     "output_type": "stream",
     "text": [
      "[[19 22]\n",
      " [43 50]]\n"
     ]
    }
   ],
   "source": [
    "import numpy as np\n",
    "\n",
    "A = np.array([[1, 2], [3, 4]])\n",
    "B = np.array([[5, 6], [7, 8]])\n",
    "result = np.dot(A, B)\n",
    "print(result)"
   ]
  },
  {
   "cell_type": "markdown",
   "id": "5ccc0344",
   "metadata": {},
   "source": [
    "**References:**\n",
    "\n",
    "[📘 Aazi 2024 - *Mathematics For Machine Learning*](https://www.scribd.com/document/812294393/Mathematics-for-Machine-Learning)\n",
    "\n",
    "---\n",
    "\n",
    "[⬅️ Previous: Matrix-Vector Multiplication](./03_matrix_vector_multiplication.ipynb) | [Next: (Coming Soon) ➡️]()\n"
   ]
  }
 ],
 "metadata": {
  "kernelspec": {
   "display_name": ".venv",
   "language": "python",
   "name": "python3"
  },
  "language_info": {
   "codemirror_mode": {
    "name": "ipython",
    "version": 3
   },
   "file_extension": ".py",
   "mimetype": "text/x-python",
   "name": "python",
   "nbconvert_exporter": "python",
   "pygments_lexer": "ipython3",
   "version": "3.11.0"
  }
 },
 "nbformat": 4,
 "nbformat_minor": 5
}
