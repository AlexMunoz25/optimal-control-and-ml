{
 "cells": [
  {
   "cell_type": "markdown",
   "id": "0dabdfc7",
   "metadata": {},
   "source": [
    "### 1.1.1.5. Norm of a Vector (Euclidean)\n",
    "\n",
    "  \n",
    "\n",
    "$$\n",
    "\\|\\mathbf{v}\\| = \\sqrt{\\sum_{i=1}^{n} v_i^2} = \\sqrt{v_1^2 + v_2^2 + \\cdots + v_n^2}\n",
    "$$\n",
    "\n",
    "  \n",
    "\n",
    "**Explanation:**\n",
    "\n",
    "  \n",
    "\n",
    "The Euclidean norm measures the magnitude (length) of a vector.  \n",
    "\n",
    "It is useful in optimization and distance computations in ML.\n",
    "\n",
    "  \n",
    "\n",
    "**Example:**\n",
    "\n",
    "  \n",
    "\n",
    "If  \n",
    "\n",
    "$$\n",
    "\\mathbf{v} =\n",
    "\\begin{bmatrix}\n",
    "3 \\\\\n",
    "4\n",
    "\\end{bmatrix},\n",
    "$$  \n",
    "\n",
    "then  \n",
    "\n",
    "$$\n",
    "\\|\\mathbf{v}\\| = \\sqrt{3^2 + 4^2} = 5.\n",
    "$$"
   ]
  },
  {
   "cell_type": "code",
   "execution_count": 3,
   "id": "11b22c32",
   "metadata": {},
   "outputs": [
    {
     "name": "stdout",
     "output_type": "stream",
     "text": [
      "||v|| = 5.0\n"
     ]
    }
   ],
   "source": [
    "import numpy as np\n",
    "\n",
    "# Define vector\n",
    "v = np.array([3, 4])\n",
    "\n",
    "# Compute Euclidean norm\n",
    "result = np.linalg.norm(v)\n",
    "\n",
    "print(\"||v|| =\", result)"
   ]
  },
  {
   "cell_type": "markdown",
   "id": "2f6ee6cb",
   "metadata": {},
   "source": [
    "**References:**\n",
    "\n",
    "[📘 Aazi 2024 - *Mathematics For Machine Learning*](https://www.scribd.com/document/812294393/Mathematics-for-Machine-Learning)\n",
    "\n",
    "---\n",
    "\n",
    "[⬅️ Previous: Cross Product](./04_vector_cross_product.ipynb) | [Next: Orthogonality Condition ➡️](./06_vector_orthogonality_condition.ipynb)\n"
   ]
  }
 ],
 "metadata": {
  "kernelspec": {
   "display_name": ".venv",
   "language": "python",
   "name": "python3"
  },
  "language_info": {
   "codemirror_mode": {
    "name": "ipython",
    "version": 3
   },
   "file_extension": ".py",
   "mimetype": "text/x-python",
   "name": "python",
   "nbconvert_exporter": "python",
   "pygments_lexer": "ipython3",
   "version": "3.11.0rc1"
  }
 },
 "nbformat": 4,
 "nbformat_minor": 5
}
