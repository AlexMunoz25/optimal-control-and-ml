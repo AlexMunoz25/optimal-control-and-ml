{
 "cells": [
  {
   "cell_type": "markdown",
   "id": "2907fd18",
   "metadata": {},
   "source": [
    "### 1.1.3.13. Matrix Outer Product\n",
    "\n",
    "\n",
    "The outer product of vectors $\\mathbf{u} \\in \\mathbb{R}^m$ and $\\mathbf{v} \\in \\mathbb{R}^n$\n",
    "produces an $m \\times n$ matrix.\n",
    "It is defined as\n",
    "\n",
    "$$\n",
    "\\mathbf{u} \\otimes \\mathbf{v} = \\mathbf{u}\\mathbf{v}^T.\n",
    "$$\n",
    "\n",
    "\n",
    "#### **Properties**\n",
    "\n",
    "- The resulting matrix has **rank 1** (if both vectors are non-zero).\n",
    "- Useful for constructing matrices from features and weights in ML.\n",
    "- Elements are $u_i v_j$, so every row is a scaled copy of $\\mathbf{v}^T$.\n",
    "\n",
    "\n",
    "#### **Example**\n",
    "\n",
    "Let $\\mathbf{u} = [1, 2]^T$ and $\\mathbf{v} = [3, 4, 5]^T$.\n",
    "Then\n",
    "\n",
    "$$\n",
    "\\mathbf{u} \\otimes \\mathbf{v} =\n",
    "\\begin{bmatrix}\n",
    "1 \\\\\n",
    "2\n",
    "\\end{bmatrix}\n",
    "\\begin{bmatrix}\n",
    "3 & 4 & 5\n",
    "\\end{bmatrix}\n",
    "=\n",
    "\\begin{bmatrix}\n",
    "3 & 4 & 5 \\\\\n",
    "6 & 8 & 10\n",
    "\\end{bmatrix}.\n",
    "$$\n",
    "\n",
    "\n",
    "The resulting matrix has rank 1 because each row is a multiple of $[3, 4, 5]$."
   ]
  },
  {
   "cell_type": "code",
   "execution_count": 2,
   "id": "2d508a7b",
   "metadata": {},
   "outputs": [
    {
     "name": "stdout",
     "output_type": "stream",
     "text": [
      "[[ 3  4  5]\n",
      " [ 6  8 10]]\n"
     ]
    }
   ],
   "source": [
    "import numpy as np\n",
    "u = np.array([1, 2])\n",
    "v = np.array([3, 4, 5])\n",
    "result = np.outer(u, v)\n",
    "print(result)"
   ]
  },
  {
   "cell_type": "markdown",
   "id": "30ba6bfa",
   "metadata": {},
   "source": [
    "**References:**\n",
    "\n",
    "[📘 Aazi 2024 - *Mathematics For Machine Learning*](https://www.scribd.com/document/812294393/Mathematics-for-Machine-Learning)  \n",
    "\n",
    "---\n",
    "\n",
    "[⬅️ Previous: Hadamard (Elementwise) Product](./12_matrix_elementwise_product.ipynb) | [Next: Frobenius Norm ➡️](./14_matrix_frobenius_norm.ipynb)\n"
   ]
  }
 ],
 "metadata": {
  "kernelspec": {
   "display_name": ".venv",
   "language": "python",
   "name": "python3"
  },
  "language_info": {
   "codemirror_mode": {
    "name": "ipython",
    "version": 3
   },
   "file_extension": ".py",
   "mimetype": "text/x-python",
   "name": "python",
   "nbconvert_exporter": "python",
   "pygments_lexer": "ipython3",
   "version": "3.11.0rc1"
  }
 },
 "nbformat": 4,
 "nbformat_minor": 5
}
