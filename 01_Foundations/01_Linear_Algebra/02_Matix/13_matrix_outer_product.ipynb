{
 "cells": [
  {
   "cell_type": "markdown",
   "id": "2907fd18",
   "metadata": {},
   "source": [
    "### 1.1.2.13. Outer Product\n",
    "\n",
    "  \n",
    "\n",
    "$$\n",
    "\\mathbf{C} = \\mathbf{u} \\otimes \\mathbf{v} =\n",
    "\\begin{bmatrix}\n",
    "u_1v_1 & u_1v_2 & \\cdots & u_1v_n \\\\\n",
    "u_2v_1 & u_2v_2 & \\cdots & u_2v_n \\\\\n",
    "\\vdots & \\vdots & \\ddots & \\vdots \\\\\n",
    "u_mv_1 & u_mv_2 & \\cdots & u_mv_n\n",
    "\\end{bmatrix}\n",
    "$$\n",
    "\n",
    "  \n",
    "\n",
    "**Explanation:**\n",
    "\n",
    "  \n",
    "\n",
    "The outer product generates a **matrix** by multiplying every element of one vector by every element of another.  \n",
    "\n",
    "It is used in **tensor operations**, **deep learning**, and for constructing **rank-1 matrices**.\n",
    "\n",
    "  \n",
    "\n",
    "**Example:**\n",
    "\n",
    "  \n",
    "\n",
    "If  \n",
    "\n",
    "$$\n",
    "\\mathbf{u} =\n",
    "\\begin{bmatrix}\n",
    "1 \\\\\n",
    "2\n",
    "\\end{bmatrix},\n",
    "\\quad\n",
    "\\mathbf{v} =\n",
    "\\begin{bmatrix}\n",
    "3 \\\\\n",
    "4 \\\\\n",
    "5\n",
    "\\end{bmatrix},\n",
    "$$\n",
    "\n",
    "then  \n",
    "\n",
    "$$\n",
    "\\mathbf{u} \\otimes \\mathbf{v} =\n",
    "\\begin{bmatrix}\n",
    "3 & 4 & 5 \\\\\n",
    "6 & 8 & 10\n",
    "\\end{bmatrix}.\n",
    "$$\n"
   ]
  },
  {
   "cell_type": "code",
   "execution_count": 2,
   "id": "2d508a7b",
   "metadata": {},
   "outputs": [
    {
     "name": "stdout",
     "output_type": "stream",
     "text": [
      "[[ 3  4  5]\n",
      " [ 6  8 10]]\n"
     ]
    }
   ],
   "source": [
    "import numpy as np\n",
    "u = np.array([1, 2])\n",
    "v = np.array([3, 4, 5])\n",
    "result = np.outer(u, v)\n",
    "print(result)"
   ]
  },
  {
   "cell_type": "markdown",
   "id": "30ba6bfa",
   "metadata": {},
   "source": [
    "**References:**\n",
    "\n",
    "[📘 Aazi 2024 - *Mathematics For Machine Learning*](https://www.scribd.com/document/812294393/Mathematics-for-Machine-Learning)  \n",
    "\n",
    "---\n",
    "\n",
    "[⬅️ Previous: Hadamard (Elementwise) Product](./12_matrix_elementwise_product.ipynb) | [Next: Frobenius Norm ➡️](./14_matrix_frobenius_norm.ipynb)\n"
   ]
  }
 ],
 "metadata": {
  "kernelspec": {
   "display_name": ".venv",
   "language": "python",
   "name": "python3"
  },
  "language_info": {
   "codemirror_mode": {
    "name": "ipython",
    "version": 3
   },
   "file_extension": ".py",
   "mimetype": "text/x-python",
   "name": "python",
   "nbconvert_exporter": "python",
   "pygments_lexer": "ipython3",
   "version": "3.11.0rc1"
  }
 },
 "nbformat": 4,
 "nbformat_minor": 5
}
