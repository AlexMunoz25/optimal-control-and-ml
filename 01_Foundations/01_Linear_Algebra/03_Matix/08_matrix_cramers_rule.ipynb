{
 "cells": [
  {
   "cell_type": "markdown",
   "id": "7043fb3f",
   "metadata": {},
   "source": [
    "### 1.1.3.8. Cramer’s Rule\n",
    "\n",
    "  \n",
    "\n",
    "$$\n",
    "x_i = \\frac{\\det(\\mathbf{A}_i)}{\\det(\\mathbf{A})},\n",
    "\\quad\n",
    "\\det(\\mathbf{A}) \\neq 0\n",
    "$$\n",
    "\n",
    "  \n",
    "\n",
    "**Explanation:**\n",
    "\n",
    "  \n",
    "\n",
    "Cramer’s Rule solves a system of linear equations $\\mathbf{A}\\mathbf{x} = \\mathbf{b}$  \n",
    "by replacing each column of $\\mathbf{A}$ with $\\mathbf{b}$ and computing determinants.  \n",
    "It is a theoretical method often used for small systems.\n",
    "\n",
    "  \n",
    "\n",
    "**Example:**\n",
    "\n",
    "  \n",
    "\n",
    "For  \n",
    "\n",
    "$$\n",
    "\\mathbf{A} =\n",
    "\\begin{bmatrix}\n",
    "2 & 1 \\\\\n",
    "1 & 3\n",
    "\\end{bmatrix},\n",
    "\\quad\n",
    "\\mathbf{b} =\n",
    "\\begin{bmatrix}\n",
    "5 \\\\\n",
    "7\n",
    "\\end{bmatrix},\n",
    "$$  \n",
    "\n",
    "we form  \n",
    "\n",
    "$$\n",
    "\\mathbf{A}_1 =\n",
    "\\begin{bmatrix}\n",
    "5 & 1 \\\\\n",
    "7 & 3\n",
    "\\end{bmatrix},\n",
    "\\quad\n",
    "\\mathbf{A}_2 =\n",
    "\\begin{bmatrix}\n",
    "2 & 5 \\\\\n",
    "1 & 7\n",
    "\\end{bmatrix},\n",
    "$$  \n",
    "\n",
    "and since $\\det(\\mathbf{A}) = 5$, we have  \n",
    "\n",
    "$$\n",
    "x_1 = \\frac{\\det(\\mathbf{A}_1)}{\\det(\\mathbf{A})},\n",
    "\\quad\n",
    "x_2 = \\frac{\\det(\\mathbf{A}_2)}{\\det(\\mathbf{A})}.\n",
    "$$"
   ]
  },
  {
   "cell_type": "code",
   "execution_count": 8,
   "id": "0265c870",
   "metadata": {},
   "outputs": [
    {
     "name": "stdout",
     "output_type": "stream",
     "text": [
      "A =\n",
      " [[2 1]\n",
      " [1 3]]\n",
      "b = [5 7]\n",
      "det(A) = 5.000000000000001\n",
      "Solution x = [1.6 1.8]\n"
     ]
    }
   ],
   "source": [
    "import numpy as np\n",
    "\n",
    "A = np.array([[2, 1], [1, 3]])\n",
    "b = np.array([5, 7])\n",
    "\n",
    "det_A = np.linalg.det(A)\n",
    "\n",
    "solutions = []\n",
    "for i in range(A.shape[1]):\n",
    "    Ai = np.column_stack([b if j == i else A[:, j] for j in range(A.shape[1])])\n",
    "    solutions.append(np.linalg.det(Ai) / det_A)\n",
    "\n",
    "x = np.array(solutions)\n",
    "\n",
    "print(\"A =\\n\", A)\n",
    "print(\"b =\", b)\n",
    "print(\"det(A) =\", det_A)\n",
    "print(\"Solution x =\", np.round(x, 4))"
   ]
  },
  {
   "cell_type": "markdown",
   "id": "5d2fa02e",
   "metadata": {},
   "source": [
    "**References:**\n",
    "\n",
    "[📘 Aazi 2024 - *Mathematics For Machine Learning*](https://www.scribd.com/document/812294393/Mathematics-for-Machine-Learning)\n",
    "\n",
    "---\n",
    "\n",
    "[⬅️ Previous: Inverse of a 2×2 Matrix](./07_matrix_inverse_2d.ipynb) | [Next: Determinant of a Triangular Matrix ➡️](./09_matrix_determinant.ipynb)\n"
   ]
  }
 ],
 "metadata": {
  "kernelspec": {
   "display_name": ".venv",
   "language": "python",
   "name": "python3"
  },
  "language_info": {
   "codemirror_mode": {
    "name": "ipython",
    "version": 3
   },
   "file_extension": ".py",
   "mimetype": "text/x-python",
   "name": "python",
   "nbconvert_exporter": "python",
   "pygments_lexer": "ipython3",
   "version": "3.11.0"
  }
 },
 "nbformat": 4,
 "nbformat_minor": 5
}
