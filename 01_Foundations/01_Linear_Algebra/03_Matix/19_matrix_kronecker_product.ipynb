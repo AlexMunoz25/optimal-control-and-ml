{
 "cells": [
  {
   "cell_type": "markdown",
   "id": "0550a9c8",
   "metadata": {},
   "source": [
    "### 1.1.3.19. Matrix Kronecker Product\n",
    "\n",
    "\n",
    "The Kronecker product of matrices $\\mathbf{A} \\in \\mathbb{R}^{m \\times n}$\n",
    "and $\\mathbf{B} \\in \\mathbb{R}^{p \\times q}$ is the block matrix\n",
    "\n",
    "$$\n",
    "\\mathbf{A} \\otimes \\mathbf{B} =\n",
    "\\begin{bmatrix}\n",
    "A_{11}\\mathbf{B} & \\cdots & A_{1n}\\mathbf{B} \\\\\n",
    "\\vdots & \\ddots & \\vdots \\\\\n",
    "A_{m1}\\mathbf{B} & \\cdots & A_{mn}\\mathbf{B}\n",
    "\\end{bmatrix},\n",
    "$$\n",
    "\n",
    "resulting in a matrix of size $(mp) \\times (nq)$.\n",
    "\n",
    "\n",
    "#### **Properties**\n",
    "\n",
    "- $(\\mathbf{A} \\otimes \\mathbf{B})(\\mathbf{C} \\otimes \\mathbf{D}) =\n",
    "(\\mathbf{AC}) \\otimes (\\mathbf{BD})$, when the products are defined.\n",
    "- $(\\mathbf{A} \\otimes \\mathbf{B})^T = \\mathbf{A}^T \\otimes \\mathbf{B}^T$.\n",
    "- Useful in tensor algebra, signal processing, and control.\n",
    "\n",
    "\n",
    "#### **Example**\n",
    "\n",
    "Let\n",
    "\n",
    "$$\n",
    "\\mathbf{A} =\n",
    "\\begin{bmatrix}\n",
    "1 & 2 \\\\\n",
    "3 & 4\n",
    "\\end{bmatrix},\n",
    "\\quad\n",
    "\\mathbf{B} =\n",
    "\\begin{bmatrix}\n",
    "0 & 5 \\\\\n",
    "6 & 7\n",
    "\\end{bmatrix}.\n",
    "$$\n",
    "\n",
    "\n",
    "Then\n",
    "\n",
    "$$\n",
    "\\mathbf{A} \\otimes \\mathbf{B} =\n",
    "\\begin{bmatrix}\n",
    "1\\mathbf{B} & 2\\mathbf{B} \\\\\n",
    "3\\mathbf{B} & 4\\mathbf{B}\n",
    "\\end{bmatrix}\n",
    "=\n",
    "\\begin{bmatrix}\n",
    "0 & 5 & 0 & 10 \\\\\n",
    "6 & 7 & 12 & 14 \\\\\n",
    "0 & 15 & 0 & 20 \\\\\n",
    "18 & 21 & 24 & 28\n",
    "\\end{bmatrix}.\n",
    "$$"
   ]
  },
  {
   "cell_type": "code",
   "execution_count": null,
   "id": "d191ae03",
   "metadata": {
    "vscode": {
     "languageId": "plaintext"
    }
   },
   "outputs": [],
   "source": [
    "import numpy as np\n",
    "\n",
    "A = np.array([[1, 2], [3, 4]])\n",
    "B = np.array([[0, 5], [6, 7]])\n",
    "result = np.kron(A, B)\n",
    "print(result)"
   ]
  },
  {
   "cell_type": "markdown",
   "id": "aa493b4e",
   "metadata": {},
   "source": [
    "**References:**\n",
    "\n",
    "[📘 Aazi 2024 - *Mathematics For Machine Learning*](https://www.scribd.com/document/812294393/Mathematics-for-Machine-Learning)  \n",
    "\n",
    "---\n",
    "\n",
    "[⬅️ Previous: Block Matrix Multiplication](./18_matrix_block_multiplication.ipynb) | [Next: (Coming Soon) ➡️]()\n"
   ]
  }
 ],
 "metadata": {
  "language_info": {
   "name": "python"
  }
 },
 "nbformat": 4,
 "nbformat_minor": 5
}
